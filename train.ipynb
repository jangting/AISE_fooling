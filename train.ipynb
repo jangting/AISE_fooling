{
 "cells": [
  {
   "cell_type": "code",
   "execution_count": 18,
   "id": "c0e7cfd0-2728-41b7-a1ee-b79021a64b78",
   "metadata": {},
   "outputs": [],
   "source": [
    "import os\n",
    "from tqdm import tqdm\n",
    "os.chdir('/home/jangting/2021_summer/AISE/fooling/LeNet5-MNIST-PyTorch')\n",
    "\n",
    "from model import Model\n",
    "import numpy as np\n",
    "import torch\n",
    "from torchvision.datasets import mnist\n",
    "from torch.nn import CrossEntropyLoss\n",
    "from torch.optim import SGD\n",
    "from torch.utils.data import DataLoader\n",
    "from torchvision.transforms import ToTensor"
   ]
  },
  {
   "cell_type": "code",
   "execution_count": 21,
   "id": "b73924ab-f52d-4c07-8f0f-8c4b3f498192",
   "metadata": {},
   "outputs": [
    {
     "name": "stdout",
     "output_type": "stream",
     "text": [
      "235\n",
      "epoch : 0,\taccuracy: 53.29%\n",
      "epoch : 1,\taccuracy: 80.86%\n",
      "epoch : 2,\taccuracy: 85.64%\n",
      "epoch : 3,\taccuracy: 86.27%\n",
      "epoch : 4,\taccuracy: 87.19%\n",
      "epoch : 5,\taccuracy: 87.68%\n",
      "epoch : 7,\taccuracy: 87.83%\n",
      "epoch : 8,\taccuracy: 87.99%\n",
      "epoch : 9,\taccuracy: 88.07%\n",
      "epoch : 10,\taccuracy: 88.13%\n",
      "epoch : 11,\taccuracy: 88.20%\n",
      "epoch : 14,\taccuracy: 88.23%\n",
      "epoch : 19,\taccuracy: 88.27%\n",
      "epoch : 36,\taccuracy: 88.40%\n",
      "epoch : 39,\taccuracy: 88.61%\n"
     ]
    }
   ],
   "source": [
    "def main():\n",
    "    batch_size = 256\n",
    "    epoch = 100\n",
    "    \n",
    "    train_dataset = mnist.MNIST(root='./train', train=True, transform=ToTensor())\n",
    "    test_dataset = mnist.MNIST(root='./test', train=False, transform=ToTensor())\n",
    "    \n",
    "    train_loader = DataLoader(train_dataset, batch_size=batch_size)\n",
    "    test_loader = DataLoader(test_dataset, batch_size=batch_size)\n",
    "    \n",
    "    model = Model()\n",
    "    sgd = SGD(model.parameters(), lr=1e-1)\n",
    "    cost = CrossEntropyLoss()\n",
    "    \n",
    "    previous_correct = 0\n",
    "\n",
    "    print(len(train_loader))\n",
    "\n",
    "    for _epoch in range(epoch):\n",
    "        for idx, (train_x, train_label) in enumerate(train_loader):\n",
    "            label_np = np.zeros((train_label.shape[0], 10))\n",
    "            sgd.zero_grad()\n",
    "            predict_y = model(train_x.float())\n",
    "            loss = cost(predict_y, train_label.long())\n",
    "            #if idx % 50 == 0:\n",
    "            #    print('idx: {}, loss: {}'.format(idx, loss.sum().item()))\n",
    "            loss.backward()\n",
    "            sgd.step()\n",
    "\n",
    "        correct = 0\n",
    "        _sum = 0\n",
    "\n",
    "        for idx, (test_x, test_label) in enumerate(test_loader):\n",
    "            predict_y = model(test_x.float()).detach()\n",
    "            predict_ys = np.argmax(predict_y, axis=-1)\n",
    "            label_np = test_label.numpy()\n",
    "            _ = predict_ys == test_label\n",
    "            correct += np.sum(_.numpy(), axis=-1)\n",
    "            _sum += _.shape[0]\n",
    "\n",
    "        if previous_correct < correct: \n",
    "            print('epoch : {},\\taccuracy: {:.2f}%'.format(_epoch ,correct / _sum * 100))\n",
    "            torch.save(model, 'models/mnist_{:.4f}.pkl'.format(correct / _sum))\n",
    "            previous_correct = correct\n",
    "\n",
    "if __name__ == '__main__':\n",
    "    main()"
   ]
  },
  {
   "cell_type": "code",
   "execution_count": null,
   "id": "6ff04e1b-a283-4918-9f32-673e2efc9812",
   "metadata": {},
   "outputs": [],
   "source": []
  }
 ],
 "metadata": {
  "kernelspec": {
   "display_name": "Python 3",
   "language": "python",
   "name": "python3"
  },
  "language_info": {
   "codemirror_mode": {
    "name": "ipython",
    "version": 3
   },
   "file_extension": ".py",
   "mimetype": "text/x-python",
   "name": "python",
   "nbconvert_exporter": "python",
   "pygments_lexer": "ipython3",
   "version": "3.9.6"
  }
 },
 "nbformat": 4,
 "nbformat_minor": 5
}
