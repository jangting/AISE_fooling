{
 "cells": [
  {
   "cell_type": "code",
   "execution_count": 3,
   "id": "9d93b1b0",
   "metadata": {},
   "outputs": [],
   "source": [
    "import os\n",
    "from tqdm import tqdm\n",
    "os.chdir('G:/sources/AI_based_SE/AISE_fooling')\n",
    "\n",
    "from model import Model\n",
    "import numpy as np\n",
    "import torch\n",
    "from torchvision.datasets import mnist\n",
    "from torch.nn import CrossEntropyLoss\n",
    "from torch.optim import SGD\n",
    "from torch.utils.data import DataLoader\n",
    "from torchvision.transforms import ToTensor"
   ]
  },
  {
   "cell_type": "code",
   "execution_count": 5,
   "id": "3e4656b2",
   "metadata": {},
   "outputs": [
    {
     "name": "stdout",
     "output_type": "stream",
     "text": [
      "235\n",
      "epoch : 0,\taccuracy: 67.41%\n",
      "epoch : 1,\taccuracy: 90.80%\n",
      "epoch : 4,\taccuracy: 95.53%\n",
      "epoch : 5,\taccuracy: 96.35%\n",
      "epoch : 6,\taccuracy: 97.12%\n",
      "epoch : 7,\taccuracy: 97.45%\n",
      "epoch : 8,\taccuracy: 97.71%\n",
      "epoch : 9,\taccuracy: 97.90%\n",
      "epoch : 10,\taccuracy: 98.00%\n",
      "epoch : 11,\taccuracy: 98.05%\n",
      "epoch : 12,\taccuracy: 98.10%\n",
      "epoch : 14,\taccuracy: 98.14%\n",
      "epoch : 19,\taccuracy: 98.19%\n",
      "epoch : 27,\taccuracy: 98.33%\n",
      "epoch : 30,\taccuracy: 98.44%\n",
      "epoch : 37,\taccuracy: 98.45%\n",
      "epoch : 39,\taccuracy: 98.52%\n",
      "epoch : 42,\taccuracy: 98.68%\n",
      "epoch : 43,\taccuracy: 98.71%\n",
      "epoch : 48,\taccuracy: 98.77%\n",
      "epoch : 49,\taccuracy: 98.79%\n",
      "epoch : 50,\taccuracy: 98.84%\n",
      "epoch : 59,\taccuracy: 98.87%\n",
      "epoch : 60,\taccuracy: 98.89%\n",
      "epoch : 64,\taccuracy: 98.90%\n",
      "epoch : 77,\taccuracy: 98.91%\n",
      "epoch : 87,\taccuracy: 98.93%\n"
     ]
    }
   ],
   "source": [
    "def main():\n",
    "    batch_size = 256\n",
    "    epoch = 100\n",
    "    \n",
    "    train_dataset = mnist.MNIST(root='./train', train=True, transform=ToTensor())\n",
    "    test_dataset = mnist.MNIST(root='./test', train=False, transform=ToTensor())\n",
    "    \n",
    "    train_loader = DataLoader(train_dataset, batch_size=batch_size)\n",
    "    test_loader = DataLoader(test_dataset, batch_size=batch_size)\n",
    "    \n",
    "    model = Model()\n",
    "    sgd = SGD(model.parameters(), lr=1e-1)\n",
    "    cost = CrossEntropyLoss()\n",
    "    \n",
    "    previous_correct = 0\n",
    "\n",
    "    print(len(train_loader))\n",
    "\n",
    "    for _epoch in range(epoch):\n",
    "        for idx, (train_x, train_label) in enumerate(train_loader):\n",
    "            label_np = np.zeros((train_label.shape[0], 10))\n",
    "            sgd.zero_grad()\n",
    "            predict_y = model(train_x.float())\n",
    "            loss = cost(predict_y, train_label.long())\n",
    "            #if idx % 50 == 0:\n",
    "            #    print('idx: {}, loss: {}'.format(idx, loss.sum().item()))\n",
    "            loss.backward()\n",
    "            sgd.step()\n",
    "\n",
    "        correct = 0\n",
    "        _sum = 0\n",
    "\n",
    "        for idx, (test_x, test_label) in enumerate(test_loader):\n",
    "            predict_y = model(test_x.float()).detach()\n",
    "            predict_ys = np.argmax(predict_y, axis=-1)\n",
    "            label_np = test_label.numpy()\n",
    "            _ = predict_ys == test_label\n",
    "            correct += np.sum(_.numpy(), axis=-1)\n",
    "            _sum += _.shape[0]\n",
    "\n",
    "        if previous_correct < correct: \n",
    "            print('epoch : {},\\taccuracy: {:.2f}%'.format(_epoch ,correct / _sum * 100))\n",
    "            torch.save(model, 'models/mnist_{:.4f}.pkl'.format(correct / _sum))\n",
    "            previous_correct = correct\n",
    "\n",
    "if __name__ == '__main__':\n",
    "    main()"
   ]
  },
  {
   "cell_type": "code",
   "execution_count": null,
   "id": "40ddf826",
   "metadata": {},
   "outputs": [],
   "source": []
  }
 ],
 "metadata": {
  "kernelspec": {
   "display_name": "Python 3",
   "language": "python",
   "name": "python3"
  },
  "language_info": {
   "codemirror_mode": {
    "name": "ipython",
    "version": 3
   },
   "file_extension": ".py",
   "mimetype": "text/x-python",
   "name": "python",
   "nbconvert_exporter": "python",
   "pygments_lexer": "ipython3",
   "version": "3.8.11"
  }
 },
 "nbformat": 4,
 "nbformat_minor": 5
}
