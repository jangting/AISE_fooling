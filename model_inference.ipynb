{
 "cells": [
  {
   "cell_type": "code",
   "execution_count": 1,
   "id": "0486e831",
   "metadata": {},
   "outputs": [
    {
     "ename": "FileNotFoundError",
     "evalue": "[Errno 2] No such file or directory: 'G:\\\\sources\\\\AI_based_SE\\\\AISE_fooling'",
     "output_type": "error",
     "traceback": [
      "\u001b[0;31m---------------------------------------------------------------------------\u001b[0m",
      "\u001b[0;31mFileNotFoundError\u001b[0m                         Traceback (most recent call last)",
      "\u001b[0;32m<ipython-input-1-123ac9157cbd>\u001b[0m in \u001b[0;36m<module>\u001b[0;34m\u001b[0m\n\u001b[1;32m      3\u001b[0m \u001b[0;32mimport\u001b[0m \u001b[0mmatplotlib\u001b[0m\u001b[0;34m.\u001b[0m\u001b[0mpyplot\u001b[0m \u001b[0;32mas\u001b[0m \u001b[0mplt\u001b[0m\u001b[0;34m\u001b[0m\u001b[0;34m\u001b[0m\u001b[0m\n\u001b[1;32m      4\u001b[0m \u001b[0;34m\u001b[0m\u001b[0m\n\u001b[0;32m----> 5\u001b[0;31m \u001b[0mos\u001b[0m\u001b[0;34m.\u001b[0m\u001b[0mchdir\u001b[0m\u001b[0;34m(\u001b[0m\u001b[0;34m'G:\\sources\\AI_based_SE\\AISE_fooling'\u001b[0m\u001b[0;34m)\u001b[0m\u001b[0;34m\u001b[0m\u001b[0;34m\u001b[0m\u001b[0m\n\u001b[0m\u001b[1;32m      6\u001b[0m \u001b[0;34m\u001b[0m\u001b[0m\n\u001b[1;32m      7\u001b[0m \u001b[0;31m#from model import Model\u001b[0m\u001b[0;34m\u001b[0m\u001b[0;34m\u001b[0m\u001b[0;34m\u001b[0m\u001b[0m\n",
      "\u001b[0;31mFileNotFoundError\u001b[0m: [Errno 2] No such file or directory: 'G:\\\\sources\\\\AI_based_SE\\\\AISE_fooling'"
     ]
    }
   ],
   "source": [
    "import os\n",
    "from tqdm import tqdm\n",
    "import matplotlib.pyplot as plt\n",
    "\n",
    "os.chdir('G:\\sources\\AI_based_SE\\AISE_fooling')\n",
    "\n",
    "#from model import Model\n",
    "import numpy as np\n",
    "import torch\n",
    "from torchvision.datasets import mnist\n",
    "\n",
    "from torch.utils.data import DataLoader\n",
    "from torchvision.transforms import ToTensor"
   ]
  },
  {
   "cell_type": "code",
   "execution_count": 2,
   "id": "268d8522",
   "metadata": {},
   "outputs": [],
   "source": [
    "def show_image(arr):\n",
    "    plt.imshow(arr, cmap='gray')\n",
    "    plt.show()\n",
    "\n",
    "# TEST\n",
    "# show_image(torch.rand((28,28)))"
   ]
  },
  {
   "cell_type": "code",
   "execution_count": 3,
   "id": "d872fe8c",
   "metadata": {},
   "outputs": [],
   "source": [
    "def recovery_image(arr):\n",
    "    rand_num = torch.rand((28,28))/4\n",
    "\n",
    "    d = c[0][0] + rand_num\n",
    "    d[d<1/4] = 0\n",
    "\n",
    "    return torch.reshape(d, (1,1,28,28))\n",
    "    show_image(d)"
   ]
  },
  {
   "cell_type": "code",
   "execution_count": 4,
   "id": "70ad02bd",
   "metadata": {},
   "outputs": [],
   "source": [
    "model_path = 'G:/sources/AI_based_SE/AISE_fooling/models/mnist_0.9893.pkl'\n",
    "model = torch.load(model_path)"
   ]
  },
  {
   "cell_type": "markdown",
   "id": "c96d4dea",
   "metadata": {},
   "source": [
    "# Test MNIST test dataset"
   ]
  },
  {
   "cell_type": "code",
   "execution_count": null,
   "id": "fa48fa1f",
   "metadata": {
    "tags": []
   },
   "outputs": [
    {
     "name": "stdout",
     "output_type": "stream",
     "text": [
      "Wall time: 0 ns\n"
     ]
    },
    {
     "name": "stderr",
     "output_type": "stream",
     "text": [
      "C:\\Users\\Jangting\\anaconda3\\envs\\fool\\lib\\site-packages\\torch\\_tensor.py:575: UserWarning: floor_divide is deprecated, and will be removed in a future version of pytorch. It currently rounds toward 0 (like the 'trunc' function NOT 'floor'). This results in incorrect rounding for negative values.\n",
      "To keep the current behavior, use torch.div(a, b, rounding_mode='trunc'), or for actual floor division, use torch.div(a, b, rounding_mode='floor'). (Triggered internally at  ..\\aten\\src\\ATen\\native\\BinaryOps.cpp:467.)\n",
      "  return torch.floor_divide(self, other)\n"
     ]
    },
    {
     "name": "stdout",
     "output_type": "stream",
     "text": [
      "torch.Size([28, 28])\n"
     ]
    }
   ],
   "source": [
    "%time\n",
    "# Test MNIST dataset\n",
    "batch_size = 1  #256\n",
    "test_dataset = mnist.MNIST(root='./test', train=False, transform=ToTensor())\n",
    "test_loader = DataLoader(test_dataset, batch_size=batch_size)\n",
    "\n",
    "count = 0\n",
    "for i, (a,b) in enumerate(test_loader):\n",
    "    \n",
    "    ## Normalize 1\n",
    "    #c = torch.round(a)\n",
    "    \n",
    "    #show_image(c[0][0])\n",
    "    #break\n",
    "    \n",
    "    ## Normalize 2\n",
    "    normalization_size = 64\n",
    "    c = a * 256 // normalization_size / (256/normalization_size)\n",
    "    \n",
    "    print(c[0][0].shape)\n",
    "    show_image(c[0][0])\n",
    "    break\n",
    "    \n",
    "    ## recover\n",
    "    c = recovery_image(c)\n",
    "    \n",
    "    # Predict\n",
    "    predict_y = model(c.float()).detach()\n",
    "    predict_y = list(predict_y[0])\n",
    "    \n",
    "    if (predict_y.index(max(predict_y)) == b[0]):\n",
    "        #print (f'{i}, {b} Correct')\n",
    "        count += 1\n",
    "    #else:\n",
    "    #    print (f'{i}, {b} Wrong')\n",
    "    \n",
    "#     if i == 100:\n",
    "#         break\n",
    "    #break\n",
    "print (f'{count / len(test_dataset)}%')"
   ]
  },
  {
   "cell_type": "code",
   "execution_count": 86,
   "id": "62d15a41",
   "metadata": {},
   "outputs": [
    {
     "name": "stdout",
     "output_type": "stream",
     "text": [
      "0.9872%\n"
     ]
    }
   ],
   "source": [
    "# 3 level normalize\n",
    "print (f'{count / len(test_dataset)}%')"
   ]
  },
  {
   "cell_type": "code",
   "execution_count": 88,
   "id": "e84b3ecc",
   "metadata": {},
   "outputs": [
    {
     "name": "stdout",
     "output_type": "stream",
     "text": [
      "0.9869%\n"
     ]
    }
   ],
   "source": [
    "# 2 level normalize (torch.round)\n",
    "print (f'{count / len(test_dataset)}%')"
   ]
  },
  {
   "cell_type": "code",
   "execution_count": 90,
   "id": "d898865b",
   "metadata": {},
   "outputs": [
    {
     "name": "stdout",
     "output_type": "stream",
     "text": [
      "0.9901%\n"
     ]
    }
   ],
   "source": [
    "# 4 level normalize (torch.round)\n",
    "print (f'{count / len(test_dataset)}%')"
   ]
  },
  {
   "cell_type": "code",
   "execution_count": 92,
   "id": "f174d222",
   "metadata": {},
   "outputs": [
    {
     "name": "stdout",
     "output_type": "stream",
     "text": [
      "0.9902%\n"
     ]
    }
   ],
   "source": [
    "# 8 level normalize (torch.round)\n",
    "print (f'{count / len(test_dataset)}%')"
   ]
  },
  {
   "cell_type": "markdown",
   "id": "956d9ba3",
   "metadata": {},
   "source": [
    "# EA"
   ]
  },
  {
   "cell_type": "code",
   "execution_count": 17,
   "id": "2fd3dfb3",
   "metadata": {},
   "outputs": [],
   "source": [
    "import torch\n",
    "import random\n",
    "from tqdm import tqdm"
   ]
  },
  {
   "cell_type": "code",
   "execution_count": 18,
   "id": "2381752f",
   "metadata": {},
   "outputs": [],
   "source": [
    "def generate_initial_image():\n",
    "    image_arr = torch.rand((28,28))\n",
    "    image_arr = image_arr * 4 // 1 / 4\n",
    "    image_arr = torch.reshape(image_arr, (1,1,28,28))\n",
    "    return image_arr"
   ]
  },
  {
   "cell_type": "code",
   "execution_count": 19,
   "id": "3561da8c",
   "metadata": {},
   "outputs": [],
   "source": [
    "# TODO : polynomial mutation operator\n",
    "\n",
    "def mutate(image_arr, rate):\n",
    "    for i in range(28):\n",
    "        for j in range(28):\n",
    "            if random.random() < rate:\n",
    "                image_arr[0][0][i][j] = random.random()\n",
    "    return image_arr\n",
    "\n",
    "# TEST\n",
    "# a = torch.zeros((28,28))\n",
    "# print(mutation(a, 0.1)[0])"
   ]
  },
  {
   "cell_type": "code",
   "execution_count": 20,
   "id": "751e6797",
   "metadata": {},
   "outputs": [],
   "source": [
    "# TODO : 추가해야할 것 확인 및 코딩\n",
    "def crossover():\n",
    "    print(\"crossover\")"
   ]
  },
  {
   "cell_type": "code",
   "execution_count": 21,
   "id": "c774e931",
   "metadata": {},
   "outputs": [],
   "source": [
    "# TODO : 해당 label의 확률 값 return\n",
    "\n",
    "def fitness_function(image_arr, label):\n",
    "    predict_y = model(image_arr.float()).detach()\n",
    "    predict_y = list(predict_y[0])\n",
    "    \n",
    "    ## TODO!!\n",
    "    if predict_y.index(max(predict_y)) != label:\n",
    "        return False\n",
    "    elif max(predict_y) < 0.9999:\n",
    "        return False\n",
    "    else:\n",
    "        return True"
   ]
  },
  {
   "cell_type": "code",
   "execution_count": 23,
   "id": "2e206bd1",
   "metadata": {},
   "outputs": [
    {
     "name": "stderr",
     "output_type": "stream",
     "text": [
      "100%|█████████████████████████████████████████████████████████████████████████████| 1000/1000 [00:01<00:00, 788.47it/s]\n"
     ]
    },
    {
     "name": "stdout",
     "output_type": "stream",
     "text": [
      "iteration : 1000\n"
     ]
    },
    {
     "data": {
      "image/png": "[encoded data removed]",
      "text/plain": [
       "<Figure size 640x480 with 1 Axes>"
      ]
     },
     "metadata": {},
     "output_type": "display_data"
    }
   ],
   "source": [
    "def main():\n",
    "    iteration = 1000 #20000\n",
    "    mutate_rate = 0.1\n",
    "    mutate_rate_cutting_time = 1000\n",
    "    \n",
    "    label = 1\n",
    "    \n",
    "    image_arr = generate_initial_image()\n",
    "    \n",
    "    for i in tqdm(range(iteration)):\n",
    "        if i == mutate_rate_cutting_time:\n",
    "            mutate_rate = mutate_rate / 2\n",
    "        mutate(image_arr, mutate_rate)\n",
    "        \n",
    "        if fitness_function(image_arr, label):\n",
    "            break\n",
    "        #break\n",
    "    \n",
    "    print(f'iteration : {iteration}')\n",
    "    show_image(image_arr[0][0])\n",
    "    \n",
    "main()"
   ]
  },
  {
   "cell_type": "code",
   "execution_count": null,
   "id": "45f5566b",
   "metadata": {},
   "outputs": [],
   "source": []
  }
 ],
 "metadata": {
  "kernelspec": {
   "display_name": "Python 3",
   "language": "python",
   "name": "python3"
  },
  "language_info": {
   "codemirror_mode": {
    "name": "ipython",
    "version": 3
   },
   "file_extension": ".py",
   "mimetype": "text/x-python",
   "name": "python",
   "nbconvert_exporter": "python",
   "pygments_lexer": "ipython3",
   "version": "3.8.11"
  }
 },
 "nbformat": 4,
 "nbformat_minor": 5
}
