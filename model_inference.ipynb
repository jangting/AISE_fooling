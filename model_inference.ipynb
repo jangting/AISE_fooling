{
 "cells": [
  {
   "cell_type": "code",
   "execution_count": 7,
   "id": "0486e831",
   "metadata": {},
   "outputs": [],
   "source": [
    "import os\n",
    "from tqdm import tqdm\n",
    "import matplotlib.pyplot as plt\n",
    "import cv2\n",
    "\n",
    "os.chdir('/mnt/g/sources/AI_based_SE/AISE_fooling')\n",
    "\n",
    "#from model import Model\n",
    "import numpy as np\n",
    "import torch\n",
    "from torchvision.datasets import mnist\n",
    "\n",
    "from torch.utils.data import DataLoader\n",
    "from torchvision.transforms import ToTensor"
   ]
  },
  {
   "cell_type": "code",
   "execution_count": 4,
   "id": "268d8522",
   "metadata": {},
   "outputs": [],
   "source": [
    "def show_image(arr):\n",
    "    plt.imshow(arr, cmap='gray')\n",
    "    plt.show()\n",
    "\n",
    "# TEST\n",
    "# show_image(torch.rand((28,28)))"
   ]
  },
  {
   "cell_type": "code",
   "execution_count": 38,
   "id": "d872fe8c",
   "metadata": {},
   "outputs": [],
   "source": [
    "def recovery_image(image_arr, rec_type=\"random\"):\n",
    "    if rec_type == \"random\":\n",
    "        rand_num = torch.rand(image_arr.shape)/4\n",
    "        result_arr = image_arr + rand_num\n",
    "    elif rec_type == \"inter\":    # interpolation\n",
    "        kernel_arr = np.array([[0.1,0.1,0.1], [0.1,0.2,0.1], [0.1,0.1,0.1]])\n",
    "        result_arr = cv2.filter2D(image_arr.detach().numpy(), -1, kernel_arr)\n",
    "    result_arr[result_arr>1] = 1\n",
    "    return result_arr"
   ]
  },
  {
   "cell_type": "code",
   "execution_count": 5,
   "id": "70ad02bd",
   "metadata": {},
   "outputs": [],
   "source": [
    "model_path = '/mnt/g/sources/AI_based_SE/AISE_fooling/models/mnist_0.9893.pkl'\n",
    "model = torch.load(model_path)"
   ]
  },
  {
   "cell_type": "markdown",
   "id": "c96d4dea",
   "metadata": {},
   "source": [
    "# Test MNIST test dataset"
   ]
  },
  {
   "cell_type": "code",
   "execution_count": 13,
   "id": "6cc37eb9-9f9a-40ce-a33a-03fcdc7651ff",
   "metadata": {},
   "outputs": [
    {
     "data": {
      "text/plain": [
       "'/mnt/g/sources/AI_based_SE/AISE_fooling'"
      ]
     },
     "execution_count": 13,
     "metadata": {},
     "output_type": "execute_result"
    }
   ],
   "source": [
    "os.getcwd()"
   ]
  },
  {
   "cell_type": "code",
   "execution_count": 32,
   "id": "da246ad9-1ec0-4b94-89b6-ba7b1936b302",
   "metadata": {},
   "outputs": [],
   "source": [
    "from torchvision.utils import save_image"
   ]
  },
  {
   "cell_type": "code",
   "execution_count": 43,
   "id": "fa48fa1f",
   "metadata": {
    "tags": []
   },
   "outputs": [
    {
     "name": "stdout",
     "output_type": "stream",
     "text": [
      "CPU times: user 2 µs, sys: 0 ns, total: 2 µs\n",
      "Wall time: 3.58 µs\n",
      "0.0974%\n"
     ]
    }
   ],
   "source": [
    "%time\n",
    "# Test MNIST dataset\n",
    "batch_size = 1  #256\n",
    "test_dataset = mnist.MNIST(root='./test', train=False, transform=ToTensor())\n",
    "test_loader = DataLoader(test_dataset, batch_size=batch_size)\n",
    "\n",
    "count = 0\n",
    "for i, (a,b) in enumerate(test_loader):\n",
    "#     #save_image(a, f'mnist_{b[0]}_original.png')\n",
    "#     show_image(a[0][0])\n",
    "    \n",
    "#     ## Normalize - 2 level\n",
    "#     c = torch.round(a)\n",
    "# #     save_image(c, f'mnist_{b[0]}_2level.png')\n",
    "#     show_image(c[0][0])\n",
    "#     #break\n",
    "    \n",
    "#     ## Normalize - 4 level\n",
    "#     normalization_size = 64\n",
    "#     c = a * 256 // normalization_size / (256/normalization_size)\n",
    "# #     save_image(c, f'mnist_{b[0]}_4level.png')\n",
    "#     show_image(c[0][0])\n",
    "#     #break\n",
    "    \n",
    "    \n",
    "#     ## Normalize - 8 level\n",
    "#     normalization_size = 32\n",
    "#     c = a * 256 // normalization_size / (256/normalization_size)\n",
    "# #     save_image(c, f'mnist_{b[0]}_8level.png')\n",
    "#     show_image(c[0][0])\n",
    "#     break\n",
    "    \n",
    "    ## recover\n",
    "    #c = recovery_image(c)\n",
    "    \n",
    "    # Predict\n",
    "    predict_y = model(c.float()).detach()\n",
    "    predict_y = list(predict_y[0])\n",
    "    \n",
    "    if (predict_y.index(max(predict_y)) == b[0]):\n",
    "        #print (f'{i}, {b} Correct')\n",
    "        count += 1\n",
    "    #else:\n",
    "    #    print (f'{i}, {b} Wrong')\n",
    "    \n",
    "#     if i == 100:\n",
    "#         break\n",
    "    #break\n",
    "print (f'{count / len(test_dataset)}%')"
   ]
  },
  {
   "cell_type": "code",
   "execution_count": 86,
   "id": "62d15a41",
   "metadata": {},
   "outputs": [
    {
     "name": "stdout",
     "output_type": "stream",
     "text": [
      "0.9872%\n"
     ]
    }
   ],
   "source": [
    "# 3 level normalize\n",
    "print (f'{count / len(test_dataset)}%')"
   ]
  },
  {
   "cell_type": "code",
   "execution_count": 88,
   "id": "e84b3ecc",
   "metadata": {},
   "outputs": [
    {
     "name": "stdout",
     "output_type": "stream",
     "text": [
      "0.9869%\n"
     ]
    }
   ],
   "source": [
    "# 2 level normalize (torch.round)\n",
    "print (f'{count / len(test_dataset)}%')"
   ]
  },
  {
   "cell_type": "code",
   "execution_count": 90,
   "id": "d898865b",
   "metadata": {},
   "outputs": [
    {
     "name": "stdout",
     "output_type": "stream",
     "text": [
      "0.9901%\n"
     ]
    }
   ],
   "source": [
    "# 4 level normalize (torch.round)\n",
    "print (f'{count / len(test_dataset)}%')"
   ]
  },
  {
   "cell_type": "code",
   "execution_count": 92,
   "id": "f174d222",
   "metadata": {},
   "outputs": [
    {
     "name": "stdout",
     "output_type": "stream",
     "text": [
      "0.9902%\n"
     ]
    }
   ],
   "source": [
    "# 8 level normalize (torch.round)\n",
    "print (f'{count / len(test_dataset)}%')"
   ]
  }
 ],
 "metadata": {
  "kernelspec": {
   "display_name": "Python 3",
   "language": "python",
   "name": "python3"
  },
  "language_info": {
   "codemirror_mode": {
    "name": "ipython",
    "version": 3
   },
   "file_extension": ".py",
   "mimetype": "text/x-python",
   "name": "python",
   "nbconvert_exporter": "python",
   "pygments_lexer": "ipython3",
   "version": "3.8.11"
  }
 },
 "nbformat": 4,
 "nbformat_minor": 5
}
