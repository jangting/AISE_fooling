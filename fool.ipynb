{
 "cells": [
  {
   "cell_type": "code",
   "execution_count": 199,
   "id": "0486e831",
   "metadata": {},
   "outputs": [
    {
     "name": "stdout",
     "output_type": "stream",
     "text": [
      "1.9.0+cu102\n"
     ]
    }
   ],
   "source": [
    "import os\n",
    "os.environ['KMP_DUPLICATE_LIB_OK']='True'\n",
    "#os.chdir('G:\\sources\\AI_based_SE\\AISE_fooling')\n",
    "\n",
    "import torch\n",
    "import random\n",
    "from tqdm import tqdm, trange\n",
    "import matplotlib.pyplot as plt\n",
    "import numpy as np\n",
    "import random\n",
    "\n",
    "#from model import Model\n",
    "\n",
    "import torch\n",
    "print(torch.__version__)"
   ]
  },
  {
   "cell_type": "code",
   "execution_count": 201,
   "id": "268d8522",
   "metadata": {},
   "outputs": [
    {
     "data": {
      "image/png": "[encoded data removed]",
      "text/plain": [
       "<Figure size 640x480 with 1 Axes>"
      ]
     },
     "metadata": {},
     "output_type": "display_data"
    }
   ],
   "source": [
    "def show_image(arr):\n",
    "    if 'cuda' in str(arr.device):\n",
    "        arr = arr.cpu()\n",
    "    plt.imshow(arr, cmap='gray')\n",
    "    plt.show()\n",
    "\n",
    "# TEST\n",
    "# CUDA\n",
    "# size = (28,28)\n",
    "# a = torch.rand(size).cuda()\n",
    "# show_image(a)\n",
    "\n",
    "# CPU\n",
    "a = torch.rand(size)\n",
    "show_image(a)"
   ]
  },
  {
   "cell_type": "code",
   "execution_count": 202,
   "id": "d872fe8c",
   "metadata": {},
   "outputs": [],
   "source": [
    "def recovery_image(arr):\n",
    "    rand_num = torch.rand((28,28))/4\n",
    "\n",
    "    d = c[0][0] + rand_num\n",
    "    d[d<1/4] = 0\n",
    "\n",
    "    return torch.reshape(d, (1,1,28,28))\n",
    "    show_image(d)"
   ]
  },
  {
   "cell_type": "code",
   "execution_count": 203,
   "id": "d832a3a6-3e68-4650-87ce-6f361a48e09f",
   "metadata": {},
   "outputs": [],
   "source": [
    "def normalize(value):\n",
    "    return value * 4 // 1 / 4"
   ]
  },
  {
   "cell_type": "code",
   "execution_count": 205,
   "id": "70ad02bd",
   "metadata": {},
   "outputs": [],
   "source": [
    "model_path = '/mnt/g/sources/AI_based_SE/AISE_fooling/models/mnist_0.9893.pkl'\n",
    "model = torch.load(model_path)\n",
    "#model_cuda = torch.load(model_path).cuda()"
   ]
  },
  {
   "cell_type": "code",
   "execution_count": 206,
   "id": "2381752f",
   "metadata": {},
   "outputs": [
    {
     "name": "stdout",
     "output_type": "stream",
     "text": [
      "tensor([[[0.2500, 0.5000],\n",
      "         [0.7500, 0.0000]],\n",
      "\n",
      "        [[0.5000, 0.5000],\n",
      "         [0.5000, 0.2500]]])\n"
     ]
    }
   ],
   "source": [
    "def generate_initial_image(norm=False, cuda=False, size=(28,28), batch_size=1):\n",
    "    if cuda:\n",
    "        image_arr = torch.rand(batch_size, size[0], size[1]).cuda()\n",
    "    else:\n",
    "        image_arr = torch.rand(batch_size, size[0], size[1])\n",
    "\n",
    "    if norm:\n",
    "        image_arr = normalize(image_arr) # * 4 // 1 / 4\n",
    "    \n",
    "    #image_arr = image_arr.unsqueeze(0).unsqueeze(0)\n",
    "    return image_arr\n",
    "\n",
    "if True:\n",
    "    # CPU\n",
    "    print(generate_initial_image(norm=True, cuda=False, size=(2,2), batch_size=2))\n",
    "    \n",
    "    # CUDA\n",
    "    #print(generate_initial_image(norm=True, cuda=True, size=(2,2), batch_size=2))"
   ]
  },
  {
   "cell_type": "code",
   "execution_count": 207,
   "id": "60b1c3be-46e1-45f3-878e-40bcde21f84e",
   "metadata": {},
   "outputs": [
    {
     "name": "stdout",
     "output_type": "stream",
     "text": [
      "tensor(0.9786)\n",
      "tensor(1.0504)\n",
      "tensor(1.0504)\n",
      "tensor(1.0504)\n",
      "tensor(1.0504)\n"
     ]
    }
   ],
   "source": [
    "def polynomial_mutate(value, cuda=False):\n",
    "    strength = 15\n",
    "\n",
    "    if cuda:\n",
    "        u = torch.rand(value.shape).cuda()\n",
    "        delta = torch.zeros(value.shape).cuda()\n",
    "    else:\n",
    "        u = torch.rand(value.shape)\n",
    "        delta = torch.zeros(value.shape)\n",
    "\n",
    "    delta[u<0.5] = (pow((u[u<0.5] * 2), (1.0 / strength + 1.0))) - 1\n",
    "    delta[u>=0.5] = 1 - pow(2.0 * (1.0 - u[u>=0.5]), 1.0 / (strength + 1.0))\n",
    "    \n",
    "#     if u < 0.5:\n",
    "#         delta = (pow((u * 2), (1.0 / strength + 1.0))) - 1\n",
    "#     else:\n",
    "#         delta = 1 - pow(2.0 * (1.0 - u), 1.0 / (strength + 1.0))\n",
    "\n",
    "    delta[delta<0] = 0\n",
    "    delta[delta>1] = 1\n",
    "    \n",
    "    result = value + delta\n",
    "    return result\n",
    "\n",
    "# TEST\n",
    "if True:\n",
    "    batch_size = 64\n",
    "    size = (28,28)\n",
    "    # CUDA\n",
    "#     a = torch.rand((batch_size, size[0], size[1]))#.cuda();\n",
    "#     for i in range(5):\n",
    "#         a = polynomial_mutate(a, cuda=True)\n",
    "#         print(a[0][0][0])\n",
    "\n",
    "    # CPU\n",
    "    a = torch.rand((batch_size, size[0], size[1]));\n",
    "    for i in range(5):\n",
    "        a = polynomial_mutate(a, cuda=False)\n",
    "        print(a[0][0][0])"
   ]
  },
  {
   "cell_type": "code",
   "execution_count": 208,
   "id": "3561da8c",
   "metadata": {},
   "outputs": [
    {
     "name": "stdout",
     "output_type": "stream",
     "text": [
      "torch.Size([64, 28, 28])\n",
      "0\n",
      "torch.Size([64, 28, 28])\n",
      "2480\n"
     ]
    }
   ],
   "source": [
    "def mutate(image_arr, mutate_rate, mutate_type='poly', norm=False, cuda=False, size=(28,28), batch_size=1):\n",
    "    image_flatten = torch.reshape(image_arr, (batch_size * size[0] * size[1], 1))\n",
    "    num_change = int(batch_size * size[0] * size[1] * mutate_rate)\n",
    "    prob = torch.rand((batch_size * size[0] * size[1]))\n",
    "    change_idx = torch.multinomial(prob, num_samples=num_change)\n",
    "    \n",
    "    #print(change_idx.shape)\n",
    "    #print(image_flatten[change_idx].shape)\n",
    "    \n",
    "    image_flatten[change_idx] = polynomial_mutate(image_flatten[change_idx], cuda=cuda)\n",
    "    \n",
    "    image_arr = torch.reshape(image_flatten, (batch_size, size[0], size[1]))    \n",
    "    \n",
    "#     for i in range(batch_size):\n",
    "#         prob = torch.rand(size)\n",
    "#         change_idx[i] = torch.multinomial(prob, num_samples=num_change)\n",
    "    \n",
    "#         if mutate_type == \"poly\":\n",
    "#             image_arr[change_idx] = polynomial_mutate(image_arr[i][change_idx[i]], cuda=cuda)\n",
    "#         else: # uniform\n",
    "#             image_arr[i][change_idx] = uniform_mutate(image_arr[i][change_idx[i]], cuda=cuda)\n",
    "#             if cuda:\n",
    "#                 image_arr[i][change_idx] = torch.rand(image_arr[i][change_idx[i]].shape).cuda()\n",
    "#             else:\n",
    "#                 image_arr[i][change_idx] = torch.rand(image_arr[i][change_idx[i]].shape)\n",
    "    \n",
    "#     for i in range(size[0]):\n",
    "#         for j in range(size[1]):\n",
    "#             if mutate_type == \"poly\":\n",
    "#                 image_arr[i][j] = polynomial_mutate(image_arr[i][j], norm, cuda=cuda)\n",
    "#             else:\n",
    "#                 if cuda:\n",
    "#                     if torch.rand([1]).cuda()[0] < rate:\n",
    "#                         image_arr[i][j] = torch.rand([1]).cuda()\n",
    "#                 else:\n",
    "#                     if torch.rand([1])[0] < rate:\n",
    "#                         image_arr[i][j] = torch.rand([1])\n",
    "                    \n",
    "#             if norm:\n",
    "#                 image_arr = normalize(image_arr)\n",
    "    return image_arr\n",
    "\n",
    "# TEST\n",
    "if True:\n",
    "    batch_size = 64\n",
    "    size = (28,28)\n",
    "    \n",
    "    # CUDA\n",
    "    #a = torch.zeros(batch_size, size[0], size[1]).cuda()\n",
    "    #print(mutate(a, 0.1, norm=False, cuda=True, size=size, batch_size=batch_size))\n",
    "    \n",
    "    # CPU\n",
    "    a = torch.zeros(batch_size, size[0], size[1])\n",
    "    print(a.shape)\n",
    "    print(len(a[a!=0]))\n",
    "    \n",
    "    b = mutate(a, 0.1, norm=False, cuda=False, size=size, batch_size=batch_size)\n",
    "    print(b.shape)\n",
    "    print(len(b[b!=0]))"
   ]
  },
  {
   "cell_type": "code",
   "execution_count": 209,
   "id": "751e6797",
   "metadata": {},
   "outputs": [],
   "source": [
    "# TODO : 추가해야할 것 확인 및 코딩\n",
    "# SBX(Simulated Binary Crossover) crossover\n",
    "\n",
    "def crossover():\n",
    "    print(\"crossover\")"
   ]
  },
  {
   "cell_type": "code",
   "execution_count": 210,
   "id": "c774e931",
   "metadata": {},
   "outputs": [
    {
     "name": "stdout",
     "output_type": "stream",
     "text": [
      "torch.Size([64])\n",
      "precision : tensor([0.0000, 0.0000, 0.0000, 0.0000, 0.0000, 0.0000, 0.0000, 0.0000, 0.0000,\n",
      "        0.0000, 0.0000, 0.0000, 0.0000, 0.0000, 0.0000, 0.0000, 0.1905, 0.0000,\n",
      "        0.0000, 0.0000, 0.0000, 0.0000, 0.0000, 0.0000, 0.0000, 0.0000, 0.0000,\n",
      "        0.0000, 0.0000, 0.0000, 3.1624, 0.0000, 0.0000, 0.0000, 0.0000, 0.0000,\n",
      "        0.0000, 0.0000, 0.0000, 0.0000, 0.0866, 0.0000, 0.0000, 0.0000, 0.0000,\n",
      "        0.0000, 0.0000, 0.1094, 0.0000, 0.0000, 0.0000, 0.2336, 0.0000, 0.4677,\n",
      "        0.0000, 0.0000, 0.0000, 0.0000, 0.0000, 0.0000, 0.0000, 0.0000, 0.0000,\n",
      "        0.0000], grad_fn=<SelectBackward>)\n"
     ]
    },
    {
     "data": {
      "image/png": "[encoded data removed]",
      "text/plain": [
       "<Figure size 640x480 with 1 Axes>"
      ]
     },
     "metadata": {},
     "output_type": "display_data"
    }
   ],
   "source": [
    "def fitness_function(image_arr, label, cuda=False):\n",
    "    image_arr = image_arr.unsqueeze(1)\n",
    "    \n",
    "    if cuda:\n",
    "        predict_y = model_cuda(image_arr.float())\n",
    "    else:\n",
    "        predict_y = model(image_arr.float())\n",
    "\n",
    "    return predict_y[:,label]\n",
    "\n",
    "# TEST\n",
    "if True:\n",
    "    label=1\n",
    "    batch_size = 64\n",
    "\n",
    "    # CUDA\n",
    "#     a = generate_initial_image(cuda=True)\n",
    "#     y = fitness_function(a, 0, cuda=True)\n",
    "#     show_image(a)\n",
    "    \n",
    "    # CPU\n",
    "    a = generate_initial_image(cuda=False, batch_size=batch_size)\n",
    "    y = fitness_function(a, label, cuda=False)\n",
    "    print(y.shape)\n",
    "    print(f\"precision : {y}\")\n",
    "    show_image(a[0])"
   ]
  },
  {
   "cell_type": "code",
   "execution_count": 211,
   "id": "d33c7ae2-ea8f-4f7d-883a-5899b503c5f6",
   "metadata": {},
   "outputs": [],
   "source": [
    "def get_update_batches(batch_score, max_change=10, ):\n",
    "    sorted_score, sorted_index = batch_score.sort()\n",
    "    \n",
    "    sorted_score = sorted_score[-max_change:]\n",
    "    sorted_index = sorted_index[-max_change:]\n",
    "    \n",
    "    a = sorted_score!=0.0\n",
    "    sorted_score = sorted_score[a]\n",
    "    sorted_index = sorted_index[a]\n",
    "    \n",
    "    return sorted_score, sorted_index"
   ]
  },
  {
   "cell_type": "code",
   "execution_count": 212,
   "id": "585f1149-2542-46a3-961c-2d873a4e6a00",
   "metadata": {},
   "outputs": [
    {
     "name": "stdout",
     "output_type": "stream",
     "text": [
      "tensor([7, 2, 5, 6, 0, 8, 4, 1, 3, 9])\n",
      "idx :\t tensor([4, 7, 1])\n",
      "value :\t tensor([0, 1, 2])\n"
     ]
    }
   ],
   "source": [
    "def get_lowest_batches(image_arr, choice_num):\n",
    "    sorted_score, sorted_index = image_arr.sort()\n",
    "    sorted_index = sorted_index[:choice_num]\n",
    "    return sorted_index\n",
    "\n",
    "#TEST\n",
    "if True:\n",
    "    a = list(range(10))\n",
    "    random.shuffle(a)\n",
    "    a = torch.tensor(a)\n",
    "    a_idx = get_lowest_batches(a, 3)\n",
    "    print(a)\n",
    "    print(\"idx :\\t\", a_idx)\n",
    "    print(\"value :\\t\", a[a_idx])"
   ]
  },
  {
   "cell_type": "code",
   "execution_count": 213,
   "id": "2e206bd1",
   "metadata": {},
   "outputs": [
    {
     "name": "stderr",
     "output_type": "stream",
     "text": [
      "Best score : 99.87417602539062\t:   5%|▌         | 1012/20000 [00:07<02:16, 138.85it/s]\n"
     ]
    },
    {
     "name": "stdout",
     "output_type": "stream",
     "text": [
      "best_score : 100.32131958007812\n"
     ]
    },
    {
     "data": {
      "image/png": "[encoded data removed]",
      "text/plain": [
       "<Figure size 640x480 with 1 Axes>"
      ]
     },
     "metadata": {},
     "output_type": "display_data"
    }
   ],
   "source": [
    "# Mycode \n",
    "\n",
    "cuda = False\n",
    "# cuda = True\n",
    "\n",
    "iteration = 20000\n",
    "\n",
    "batch_size = 64\n",
    "\n",
    "mutate_rate = 0.1\n",
    "mutate_rate_cutting_time = 1000\n",
    "\n",
    "max_score = 0\n",
    "\n",
    "best_image_arr = None\n",
    "best_score = 0\n",
    "\n",
    "#label = list(range(0,10))\n",
    "label = 1\n",
    "\n",
    "image_arr_batch = generate_initial_image(cuda=cuda, batch_size=batch_size)\n",
    "image_arr_score = torch.zeros(batch_size)\n",
    "\n",
    "t = trange(iteration, leave=True)\n",
    "for i in t:\n",
    "    t.set_description(f'Best score : {max_score}\\t')\n",
    "    t.refresh() # to show immediately the update\n",
    "    if i == mutate_rate_cutting_time:\n",
    "        mutate_rate = mutate_rate / 2\n",
    "        \n",
    "    # Mutate\n",
    "    image_arr_batch_new = mutate(image_arr_batch, mutate_rate, norm=True, cuda=cuda, batch_size=batch_size)\n",
    "    \n",
    "    # Fitness & sampling\n",
    "    batch_score = fitness_function(image_arr_batch_new, label, cuda=cuda)\n",
    "    update_batch_score, update_batch_index = get_update_batches(batch_score)\n",
    "    \n",
    "    # Get updated batches\n",
    "    candidate_num = len(update_batch_score)\n",
    "    lowest_indices = get_lowest_batches(image_arr_score, candidate_num)\n",
    "    \n",
    "    # Update batches\n",
    "    image_arr_batch[lowest_indices] = image_arr_batch_new[update_batch_index]\n",
    "    image_arr_score[lowest_indices] = update_batch_score\n",
    "    \n",
    "    # Get max score\n",
    "    max_idx = torch.argmax(update_batch_score)\n",
    "    max_score = update_batch_score[max_idx]\n",
    "    \n",
    "    if max_score > 99.99:\n",
    "        best_image_arr = image_arr_batch[max_idx]\n",
    "        best_score = max_score\n",
    "        break\n",
    "\n",
    "print(f'best_score : {best_score}')\n",
    "show_image(best_image_arr)"
   ]
  },
  {
   "cell_type": "code",
   "execution_count": 214,
   "id": "c16dc8c9-5c16-4f1a-bd16-046e3883e7b6",
   "metadata": {},
   "outputs": [
    {
     "name": "stdout",
     "output_type": "stream",
     "text": [
      "tensor([[ 0.0000, 99.4668, 58.8541,  0.0000,  0.0000,  0.0000,  0.0000,  0.0000,\n",
      "          0.0000,  0.0000]], grad_fn=<ReluBackward0>)\n"
     ]
    }
   ],
   "source": [
    "best_image_arr = best_image_arr.unsqueeze(0).unsqueeze(0)\n",
    "y = model(best_image_arr)\n",
    "print(y)"
   ]
  }
 ],
 "metadata": {
  "kernelspec": {
   "display_name": "Python 3",
   "language": "python",
   "name": "python3"
  },
  "language_info": {
   "codemirror_mode": {
    "name": "ipython",
    "version": 3
   },
   "file_extension": ".py",
   "mimetype": "text/x-python",
   "name": "python",
   "nbconvert_exporter": "python",
   "pygments_lexer": "ipython3",
   "version": "3.8.11"
  }
 },
 "nbformat": 4,
 "nbformat_minor": 5
}
