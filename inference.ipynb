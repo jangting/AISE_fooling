{
 "cells": [
  {
   "cell_type": "code",
   "execution_count": 2,
   "id": "c0e7cfd0-2728-41b7-a1ee-b79021a64b78",
   "metadata": {},
   "outputs": [],
   "source": [
    "import os\n",
    "from tqdm import tqdm\n",
    "import matplotlib.pyplot as plt\n",
    "\n",
    "os.chdir('/home/jangting/2021_summer/AISE/fooling/LeNet5-MNIST-PyTorch')\n",
    "\n",
    "#from model import Model\n",
    "import numpy as np\n",
    "import torch\n",
    "from torchvision.datasets import mnist\n",
    "\n",
    "from torch.utils.data import DataLoader\n",
    "from torchvision.transforms import ToTensor"
   ]
  },
  {
   "cell_type": "code",
   "execution_count": 3,
   "id": "4e523ca0-b380-495c-93ec-18e9ccb70811",
   "metadata": {},
   "outputs": [],
   "source": [
    "def show_image(arr):\n",
    "    plt.imshow(arr, cmap='gray')\n",
    "    plt.show()"
   ]
  },
  {
   "cell_type": "code",
   "execution_count": 25,
   "id": "f0f60131-655e-4db2-a219-a16525298b6b",
   "metadata": {},
   "outputs": [],
   "source": [
    "def recovery_image(arr):\n",
    "    rand_num = torch.rand((28,28))/4\n",
    "\n",
    "    d = c[0][0] + rand_num\n",
    "    d[d<1/4] = 0\n",
    "\n",
    "    return torch.reshape(d, (1,1,28,28))\n",
    "    show_image(d)"
   ]
  },
  {
   "cell_type": "code",
   "execution_count": 4,
   "id": "8194f481-ad63-4b86-a52b-4f8efb60f121",
   "metadata": {},
   "outputs": [],
   "source": [
    "model_path = '/home/jangting/2021_summer/AISE/fooling/LeNet5-MNIST-PyTorch/models/mnist_0.9905.pkl'\n",
    "model = torch.load(model_path)"
   ]
  },
  {
   "cell_type": "code",
   "execution_count": 29,
   "id": "852b1d15-acf4-490e-b9eb-7765fd9fe12e",
   "metadata": {},
   "outputs": [
    {
     "name": "stdout",
     "output_type": "stream",
     "text": [
      "CPU times: user 3 µs, sys: 0 ns, total: 3 µs\n",
      "Wall time: 3.81 µs\n",
      "0.9893%\n"
     ]
    }
   ],
   "source": [
    "%time\n",
    "# Test MNIST dataset\n",
    "batch_size = 1  #256\n",
    "test_dataset = mnist.MNIST(root='./test', train=False, transform=ToTensor())\n",
    "test_loader = DataLoader(test_dataset, batch_size=batch_size)\n",
    "\n",
    "count = 0\n",
    "for i, (a,b) in enumerate(test_loader):\n",
    "    \n",
    "    ## Normalize 1\n",
    "    #c = torch.round(a)\n",
    "    \n",
    "    #show_image(c[0][0])\n",
    "    #break\n",
    "    \n",
    "    ## Normalize 2\n",
    "    normalization_size = 64\n",
    "    c = a * 256 // normalization_size / (256/normalization_size)\n",
    "    \n",
    "    #show_image(c[0][0])\n",
    "    #break\n",
    "    \n",
    "    ## recover\n",
    "    c = recovery_image(c)\n",
    "    \n",
    "    # Predict\n",
    "    predict_y = model(c.float()).detach()\n",
    "    predict_y = list(predict_y[0])\n",
    "    \n",
    "    if (predict_y.index(max(predict_y)) == b[0]):\n",
    "        #print (f'{i}, {b} Correct')\n",
    "        count += 1\n",
    "    #else:\n",
    "    #    print (f'{i}, {b} Wrong')\n",
    "    \n",
    "#     if i == 100:\n",
    "#         break\n",
    "    #break\n",
    "print (f'{count / len(test_dataset)}%')"
   ]
  },
  {
   "cell_type": "code",
   "execution_count": 86,
   "id": "8762ee07-f15a-4e0d-a7d9-9b2ca598685c",
   "metadata": {},
   "outputs": [
    {
     "name": "stdout",
     "output_type": "stream",
     "text": [
      "0.9872%\n"
     ]
    }
   ],
   "source": [
    "# 3 level normalize\n",
    "print (f'{count / len(test_dataset)}%')"
   ]
  },
  {
   "cell_type": "code",
   "execution_count": 88,
   "id": "700460f4-e09a-41d2-a778-cd37e5d6acf2",
   "metadata": {},
   "outputs": [
    {
     "name": "stdout",
     "output_type": "stream",
     "text": [
      "0.9869%\n"
     ]
    }
   ],
   "source": [
    "# 2 level normalize (torch.round)\n",
    "print (f'{count / len(test_dataset)}%')"
   ]
  },
  {
   "cell_type": "code",
   "execution_count": 90,
   "id": "35de3965-34ed-4705-aab0-21c1e3d06913",
   "metadata": {},
   "outputs": [
    {
     "name": "stdout",
     "output_type": "stream",
     "text": [
      "0.9901%\n"
     ]
    }
   ],
   "source": [
    "# 4 level normalize (torch.round)\n",
    "print (f'{count / len(test_dataset)}%')"
   ]
  },
  {
   "cell_type": "code",
   "execution_count": 92,
   "id": "cb91becf-6511-4fb2-b366-4d16ccda143e",
   "metadata": {},
   "outputs": [
    {
     "name": "stdout",
     "output_type": "stream",
     "text": [
      "0.9902%\n"
     ]
    }
   ],
   "source": [
    "# 8 level normalize (torch.round)\n",
    "print (f'{count / len(test_dataset)}%')"
   ]
  },
  {
   "cell_type": "code",
   "execution_count": 4,
   "id": "885f94d3-110d-4bca-b953-8b0c2b292f07",
   "metadata": {},
   "outputs": [
    {
     "name": "stderr",
     "output_type": "stream",
     "text": [
      "/home/jangting/Tools/anaconda3/envs/py38_fooled/lib/python3.9/site-packages/torch/nn/functional.py:718: UserWarning: Named tensors and all their associated APIs are an experimental feature and subject to change. Please do not use them for anything important until they are released as stable. (Triggered internally at  /pytorch/c10/core/TensorImpl.h:1156.)\n",
      "  return torch.max_pool2d(input, kernel_size, stride, padding, dilation, ceil_mode)\n"
     ]
    },
    {
     "data": {
      "text/plain": [
       "tensor([[0.0000, 0.7824, 0.0000, 1.1104, 4.4208, 2.9736, 0.0000, 2.1594, 1.9574,\n",
       "         0.0000]], grad_fn=<ReluBackward0>)"
      ]
     },
     "execution_count": 4,
     "metadata": {},
     "output_type": "execute_result"
    }
   ],
   "source": [
    "a = torch.rand((1,1,28,28))\n",
    "model(a.float())"
   ]
  }
 ],
 "metadata": {
  "kernelspec": {
   "display_name": "Python 3",
   "language": "python",
   "name": "python3"
  },
  "language_info": {
   "codemirror_mode": {
    "name": "ipython",
    "version": 3
   },
   "file_extension": ".py",
   "mimetype": "text/x-python",
   "name": "python",
   "nbconvert_exporter": "python",
   "pygments_lexer": "ipython3",
   "version": "3.9.6"
  }
 },
 "nbformat": 4,
 "nbformat_minor": 5
}
